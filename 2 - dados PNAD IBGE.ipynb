{
 "cells": [
  {
   "cell_type": "code",
   "execution_count": 59,
   "id": "545192f3-4e3b-4332-a038-307d70fd5103",
   "metadata": {},
   "outputs": [],
   "source": [
    "import pandas as pd\n",
    "import requests\n",
    "import numpy as np"
   ]
  },
  {
   "cell_type": "code",
   "execution_count": 60,
   "id": "b0691f01-9409-4858-835a-ff539649ae90",
   "metadata": {},
   "outputs": [],
   "source": [
    "url1 = 'https://apisidra.ibge.gov.br/values/t/4092/n3/all/v/1641/p/202001,202002,202003,202004/c629/32386,32446'\n",
    "url2 = 'https://apisidra.ibge.gov.br/values/t/4097/n3/all/v/4090/p/202001,202002,202003,202004/c11913/31721,31724,31727,31731,96170,96171'"
   ]
  },
  {
   "cell_type": "markdown",
   "id": "5cd877a7-422e-435a-bc9f-95854d0690d1",
   "metadata": {},
   "source": [
    "Tabela 4092"
   ]
  },
  {
   "cell_type": "code",
   "execution_count": 61,
   "id": "0cb8165c-0d32-4462-b668-e929bee2be6e",
   "metadata": {},
   "outputs": [],
   "source": [
    "resp = requests.get(url1).json()"
   ]
  },
  {
   "cell_type": "code",
   "execution_count": 62,
   "id": "08480a6f-d4fc-40ef-a54c-ee20959c9b39",
   "metadata": {},
   "outputs": [],
   "source": [
    "data = pd.DataFrame(resp)"
   ]
  },
  {
   "cell_type": "code",
   "execution_count": 63,
   "id": "6f862726-25cd-44c5-aafd-a454c43398e9",
   "metadata": {},
   "outputs": [],
   "source": [
    "data = data.rename(columns={\"D1N\": \"uf_nome\", \"V\": \"valor\", \"D3C\": \"trimestre\", \"D4N\": \"condicao\", \"D2N\": \"variavel\"})"
   ]
  },
  {
   "cell_type": "code",
   "execution_count": 64,
   "id": "eadf3227-4288-4e10-8940-45fad40ad596",
   "metadata": {},
   "outputs": [],
   "source": [
    "data = data[[\"trimestre\", \"uf_nome\", \"variavel\", \"condicao\", \"valor\"]].iloc[1:]"
   ]
  },
  {
   "cell_type": "code",
   "execution_count": 65,
   "id": "4a0dc694-c4c8-4675-92ed-270ee760face",
   "metadata": {},
   "outputs": [],
   "source": [
    "conditions = [\n",
    "    (data['uf_nome'] == 'Acre'), (data['uf_nome'] == 'Amazonas'), (data['uf_nome'] == 'Roraima'), (data['uf_nome'] == 'Pará'), (data['uf_nome'] == 'Amapá'), (data['uf_nome'] == 'Tocantins'), \n",
    "    (data['uf_nome'] == 'Maranhão'), (data['uf_nome'] == 'Piauí'), (data['uf_nome'] == 'Ceará'), (data['uf_nome'] == 'Rio Grande do Norte'), (data['uf_nome'] == 'Paraíba'), (data['uf_nome'] == 'Pernambuco'), \n",
    "    (data['uf_nome'] == 'Alagoas'), (data['uf_nome'] == 'Sergipe'), (data['uf_nome'] == 'Bahia'), (data['uf_nome'] == 'Minas Gerais'), (data['uf_nome'] == 'Espírito Santo'), \n",
    "    (data['uf_nome'] == 'Rio de Janeiro'), (data['uf_nome'] == 'São Paulo'), (data['uf_nome'] == 'Paraná'), (data['uf_nome'] == 'Santa Catarina'), (data['uf_nome'] == 'Rondônia'),\n",
    "    (data['uf_nome'] == 'Rio Grande do Sul'), (data['uf_nome'] == 'Mato Grosso do Sul'), (data['uf_nome'] == 'Mato Grosso'), (data['uf_nome'] == 'Goiás'), (data['uf_nome'] == 'Distrito Federal')]\n",
    "\n",
    "values = ['AC', 'AM', 'RR', 'PA', 'AP', 'TO', 'MA', 'PI', 'CE', 'RN', 'PB', 'PE', 'AL', 'SE', 'BA', 'MG', 'ES', 'RJ', 'SP', 'PR', 'SC', 'RO', 'RS', 'MS', 'MT', 'GO', 'DF']\n",
    "\n",
    "data['uf'] = np.select(conditions, values)"
   ]
  },
  {
   "cell_type": "code",
   "execution_count": 66,
   "id": "9fbd47a8-77be-4c03-bee6-961a07bb99c1",
   "metadata": {},
   "outputs": [],
   "source": [
    "conditions = [\n",
    "        (data['trimestre'] == '202001'), (data['trimestre'] == '202002'), (data['trimestre'] == '202003'), (data['trimestre'] == '202004')]\n",
    "\n",
    "values = ['202003', '202006', '202009',' 202012']\n",
    "\n",
    "data['trimestre_fim'] = np.select(conditions, values)"
   ]
  },
  {
   "cell_type": "code",
   "execution_count": 67,
   "id": "a60b2a0b-86cc-4994-8c70-0c23b8318ac3",
   "metadata": {},
   "outputs": [],
   "source": [
    "data.to_csv('data_pnad1.csv')"
   ]
  },
  {
   "cell_type": "markdown",
   "id": "b4956858-1655-448e-a68b-fa2e5afaf3c8",
   "metadata": {},
   "source": [
    "Tabela 4097"
   ]
  },
  {
   "cell_type": "code",
   "execution_count": null,
   "id": "59e00f59-597b-47c5-a0df-2ac10ef32626",
   "metadata": {},
   "outputs": [],
   "source": [
    "resp = requests.get(url2).json()"
   ]
  },
  {
   "cell_type": "code",
   "execution_count": null,
   "id": "5f48da53-683a-4233-9334-5fc924049d9f",
   "metadata": {},
   "outputs": [],
   "source": [
    "data2 = pd.DataFrame(resp)"
   ]
  },
  {
   "cell_type": "code",
   "execution_count": null,
   "id": "0b430db4-c921-417f-8333-b601770126ef",
   "metadata": {},
   "outputs": [],
   "source": [
    "data2 = data2.rename(columns={\"D1N\": \"uf_nome\", \"V\": \"valor\", \"D3C\": \"trimestre\", \"D4N\": \"condicao\", \"D2N\": \"variavel\"})"
   ]
  },
  {
   "cell_type": "code",
   "execution_count": null,
   "id": "0339298a-22ef-4246-afb7-1e01549cb603",
   "metadata": {},
   "outputs": [],
   "source": [
    "data2 = data2[[\"trimestre\", \"uf_nome\", \"variavel\", \"condicao\", \"valor\"]].iloc[1:]"
   ]
  },
  {
   "cell_type": "code",
   "execution_count": null,
   "id": "1835a903-13ae-4eda-b0c6-4fb303005282",
   "metadata": {},
   "outputs": [],
   "source": [
    "conditions = [\n",
    "    (data2['uf_nome'] == 'Acre'), (data2['uf_nome'] == 'Amazonas'), (data2['uf_nome'] == 'Roraima'), (data2['uf_nome'] == 'Pará'), (data2['uf_nome'] == 'Amapá'), (data2['uf_nome'] == 'Tocantins'), \n",
    "    (data2['uf_nome'] == 'Maranhão'), (data2['uf_nome'] == 'Piauí'), (data2['uf_nome'] == 'Ceará'), (data2['uf_nome'] == 'Rio Grande do Norte'), (data2['uf_nome'] == 'Paraíba'), \n",
    "    (data2['uf_nome'] == 'Pernambuco'), (data2['uf_nome'] == 'Alagoas'), (data2['uf_nome'] == 'Sergipe'), (data2['uf_nome'] == 'Bahia'), (data2['uf_nome'] == 'Minas Gerais'), \n",
    "    (data2['uf_nome'] == 'Espírito Santo'), (data2['uf_nome'] == 'Rio de Janeiro'), (data2['uf_nome'] == 'São Paulo'), (data2['uf_nome'] == 'Paraná'), (data2['uf_nome'] == 'Santa Catarina'), \n",
    "    (data2['uf_nome'] == 'Rondônia'), (data2['uf_nome'] == 'Rio Grande do Sul'), (data2['uf_nome'] == 'Mato Grosso do Sul'), (data2['uf_nome'] == 'Mato Grosso'), (data2['uf_nome'] == 'Goiás'), \n",
    "    (data2['uf_nome'] == 'Distrito Federal')]\n",
    "\n",
    "values = ['AC', 'AM', 'RR', 'PA', 'AP', 'TO', 'MA', 'PI', 'CE', 'RN', 'PB', 'PE', 'AL', 'SE', 'BA', 'MG', 'ES', 'RJ', 'SP', 'PR', 'SC', 'RO', 'RS', 'MS', 'MT', 'GO', 'DF']\n",
    "\n",
    "data2['uf'] = np.select(conditions, values)"
   ]
  },
  {
   "cell_type": "code",
   "execution_count": null,
   "id": "578b146b-d09e-4673-8da2-0bf7da9c9a9b",
   "metadata": {},
   "outputs": [],
   "source": [
    "conditions = [\n",
    "        (data2['trimestre'] == '202001'), (data2['trimestre'] == '202002'), (data2['trimestre'] == '202003'), (data2['trimestre'] == '202004')]\n",
    "\n",
    "values = ['202003', '202006', '202009',' 202012']\n",
    "\n",
    "data2['trimestre_fim'] = np.select(conditions, values)"
   ]
  },
  {
   "cell_type": "code",
   "execution_count": null,
   "id": "054d4c14-e7b5-46ab-b57f-0feed300d328",
   "metadata": {},
   "outputs": [],
   "source": [
    "data2.to_csv('data_pnad2.csv')"
   ]
  }
 ],
 "metadata": {
  "kernelspec": {
   "display_name": "Python 3 (ipykernel)",
   "language": "python",
   "name": "python3"
  },
  "language_info": {
   "codemirror_mode": {
    "name": "ipython",
    "version": 3
   },
   "file_extension": ".py",
   "mimetype": "text/x-python",
   "name": "python",
   "nbconvert_exporter": "python",
   "pygments_lexer": "ipython3",
   "version": "3.9.13"
  }
 },
 "nbformat": 4,
 "nbformat_minor": 5
}
