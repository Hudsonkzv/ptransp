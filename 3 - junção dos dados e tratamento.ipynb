{
 "cells": [
  {
   "cell_type": "code",
   "execution_count": 1,
   "id": "ea82ad10-51eb-49d4-a9d4-7cf74b2d0e2f",
   "metadata": {},
   "outputs": [],
   "source": [
    "import pandas as pd\n",
    "import numpy as np"
   ]
  },
  {
   "cell_type": "code",
   "execution_count": 2,
   "id": "0326ce74-0cd6-42bf-9fb4-0f8e95f6efe8",
   "metadata": {},
   "outputs": [],
   "source": [
    "pnad1 = pd.read_csv(\"data_pnad1.csv\", sep = ',', usecols = [7, 1, 6, 2, 3, 4, 5])\n",
    "pnad2 = pd.read_csv(\"data_pnad2.csv\", sep = ',', usecols = [7, 1, 6, 2, 3, 4, 5])\n",
    "aux_emergencial = pd.read_csv(\"dados_auxilio_sumarizados.csv\", sep = ',')"
   ]
  },
  {
   "cell_type": "markdown",
   "id": "441d66b2-3477-4a4d-add6-bcf9f5a5be3e",
   "metadata": {},
   "source": [
    "Trata dados auxílio emergencial"
   ]
  },
  {
   "cell_type": "code",
   "execution_count": 3,
   "id": "aa1fde0c-83d5-4360-949e-e4f857fa89ba",
   "metadata": {},
   "outputs": [],
   "source": [
    "aux_emergencial = aux_emergencial.pivot(index = ['mes_disp', 'uf'], columns = 'enquadramento')"
   ]
  },
  {
   "cell_type": "code",
   "execution_count": 4,
   "id": "44a49650-2195-4eb5-beb6-51f10dc8834e",
   "metadata": {},
   "outputs": [],
   "source": [
    "aux_emergencial.columns = ['_'.join(col) for col in aux_emergencial.columns.values]"
   ]
  },
  {
   "cell_type": "markdown",
   "id": "a48daf5c-3152-42dc-bb1b-cbf05b01f742",
   "metadata": {},
   "source": [
    "Trata dados pnad1"
   ]
  },
  {
   "cell_type": "code",
   "execution_count": 5,
   "id": "ba884b1f-19a7-4b6c-8957-f79db5913522",
   "metadata": {},
   "outputs": [],
   "source": [
    "pnad1 = pnad1[['trimestre_fim', 'uf', 'condicao', 'valor']]\n",
    "pnad1 = pnad1.pivot(index = ['trimestre_fim', 'uf'], columns = 'condicao')\n",
    "pnad1.columns = ['_'.join(col) for col in pnad1.columns.values]"
   ]
  },
  {
   "cell_type": "code",
   "execution_count": 6,
   "id": "18cf0df6-d93c-48be-b917-6c07855b4366",
   "metadata": {},
   "outputs": [],
   "source": [
    "pnad1_aux = pnad1.copy().reset_index()"
   ]
  },
  {
   "cell_type": "code",
   "execution_count": 7,
   "id": "dc21eacc-f8db-4e40-8342-98f25c3f9bb2",
   "metadata": {},
   "outputs": [],
   "source": [
    "condition = [(pnad1_aux.trimestre_fim == 202003), (pnad1_aux.trimestre_fim == 202006), (pnad1_aux.trimestre_fim == 202009), (pnad1_aux.trimestre_fim == 202012)]\n",
    "value = [202001, 202004, 202007, 202010]\n",
    "pnad1_aux['trimestre'] = np.select(condition, value)"
   ]
  },
  {
   "cell_type": "code",
   "execution_count": 8,
   "id": "f60b1189-f426-40c8-b22a-4d955a5900d8",
   "metadata": {},
   "outputs": [],
   "source": [
    "pnad1_aux2 = pnad1.copy().reset_index()"
   ]
  },
  {
   "cell_type": "code",
   "execution_count": 9,
   "id": "713eba0e-3ab9-4078-9e9c-8e39d9cb4a9c",
   "metadata": {},
   "outputs": [],
   "source": [
    "condition = [(pnad1_aux2.trimestre_fim == 202003), (pnad1_aux2.trimestre_fim == 202006), (pnad1_aux2.trimestre_fim == 202009), (pnad1_aux2.trimestre_fim == 202012)]\n",
    "value = [202002, 202005, 202008, 202011]\n",
    "pnad1_aux2['trimestre'] = np.select(condition, value)"
   ]
  },
  {
   "cell_type": "code",
   "execution_count": 10,
   "id": "3da96f44-0ba5-4d65-8ea8-365cc151f2de",
   "metadata": {},
   "outputs": [],
   "source": [
    "pnad1 = pnad1.reset_index()\n",
    "pnad1['trimestre'] = pnad1['trimestre_fim']"
   ]
  },
  {
   "cell_type": "code",
   "execution_count": 11,
   "id": "a3fd1682-d0eb-43d2-9a83-7597e94f6b4e",
   "metadata": {},
   "outputs": [],
   "source": [
    "pnad1_final = pd.concat([pnad1, pnad1_aux, pnad1_aux2])"
   ]
  },
  {
   "cell_type": "markdown",
   "id": "dec80791-6461-4149-b185-699e554b3827",
   "metadata": {},
   "source": [
    "Trata dados pnad2"
   ]
  },
  {
   "cell_type": "code",
   "execution_count": 12,
   "id": "0f97ca1f-4c00-4210-bcf5-b649a515e169",
   "metadata": {},
   "outputs": [],
   "source": [
    "pnad2 = pnad2[['trimestre_fim', 'uf', 'condicao', 'valor']]\n",
    "pnad2 = pnad2.pivot(index = ['trimestre_fim', 'uf'], columns = 'condicao')\n",
    "pnad2.columns = ['_'.join(col) for col in pnad2.columns.values]"
   ]
  },
  {
   "cell_type": "code",
   "execution_count": 13,
   "id": "7694e1ab-9464-4b40-b5ad-cf442c5f597d",
   "metadata": {},
   "outputs": [],
   "source": [
    "pnad2_aux = pnad2.copy().reset_index()"
   ]
  },
  {
   "cell_type": "code",
   "execution_count": 14,
   "id": "22693587-62b4-407d-a05e-5756970fa8c9",
   "metadata": {},
   "outputs": [],
   "source": [
    "condition = [(pnad2_aux.trimestre_fim == 202003), (pnad2_aux.trimestre_fim == 202006), (pnad2_aux.trimestre_fim == 202009), (pnad2_aux.trimestre_fim == 202012)]\n",
    "value = [202001, 202004, 202007, 202010]\n",
    "pnad2_aux['trimestre'] = np.select(condition, value)"
   ]
  },
  {
   "cell_type": "code",
   "execution_count": 15,
   "id": "ee2568ad-58b3-4564-b0ae-f2ec8d6634c8",
   "metadata": {},
   "outputs": [],
   "source": [
    "pnad2_aux2 = pnad2.copy().reset_index()"
   ]
  },
  {
   "cell_type": "code",
   "execution_count": 16,
   "id": "3558779d-c889-40f4-9bb8-fbc3d30699d6",
   "metadata": {},
   "outputs": [],
   "source": [
    "condition = [(pnad2_aux2.trimestre_fim == 202003), (pnad2_aux2.trimestre_fim == 202006), (pnad2_aux2.trimestre_fim == 202009), (pnad2_aux2.trimestre_fim == 202012)]\n",
    "value = [202002, 202005, 202008, 202011]\n",
    "pnad2_aux2['trimestre'] = np.select(condition, value)"
   ]
  },
  {
   "cell_type": "code",
   "execution_count": 17,
   "id": "24f3f4dd-172b-4287-a833-de428fa9f61c",
   "metadata": {},
   "outputs": [],
   "source": [
    "pnad2 = pnad2.reset_index()\n",
    "pnad2['trimestre'] = pnad2['trimestre_fim']"
   ]
  },
  {
   "cell_type": "code",
   "execution_count": 18,
   "id": "2aeef7ae-9f92-424c-8896-2abc3d6498b6",
   "metadata": {},
   "outputs": [],
   "source": [
    "pnad2_final = pd.concat([pnad2, pnad2_aux, pnad2_aux2])"
   ]
  },
  {
   "cell_type": "markdown",
   "id": "a61dc524-88e0-4537-9bc2-8575fad063fb",
   "metadata": {},
   "source": [
    "Junta os 3 dataframes em um só através do mês e UF"
   ]
  },
  {
   "cell_type": "code",
   "execution_count": 19,
   "id": "de82ed38-4891-427a-9a4c-5a985dc59e82",
   "metadata": {},
   "outputs": [],
   "source": [
    "merge1 = pd.merge(aux_emergencial, pnad1_final, how='left', left_on=['mes_disp', 'uf'], right_on=['trimestre', 'uf'])"
   ]
  },
  {
   "cell_type": "code",
   "execution_count": 20,
   "id": "ffddec39-e1de-4f19-9844-89c495b54607",
   "metadata": {},
   "outputs": [],
   "source": [
    "merge2 = pd.merge(merge1, pnad2_final, how='left', left_on=['trimestre', 'uf'], right_on=['trimestre', 'uf'])"
   ]
  },
  {
   "cell_type": "code",
   "execution_count": 21,
   "id": "4077cd23-857d-4fad-b516-9844958d95cc",
   "metadata": {},
   "outputs": [],
   "source": [
    "tab_final = merge2.set_index(['trimestre', 'uf'])"
   ]
  },
  {
   "cell_type": "code",
   "execution_count": 40,
   "id": "83fd9d04-0e54-4c64-9394-e0c8fb9edea8",
   "metadata": {},
   "outputs": [],
   "source": [
    "tab_final_rnm = tab_final.drop(columns=['trimestre_fim_x', 'trimestre_fim_y']).rename(columns={\"sum_BOLSA FAMILIA\": \"valor_bolsa_familia\", \"sum_CADUNICO\": \"valor_cadunico\", \n",
    "                          \"sum_EXTRACAD\": \"valor_extracad\", \"count_BOLSA FAMILIA\": \"qtd_bolsa_familia\", \"count_CADUNICO\": \"qtd_cadunico\", \"count_EXTRACAD\": \"qtd_extracad\", \n",
    "                          \"valor_Força de trabalho\": \"total_forca_trabalho\", \"valor_Força de trabalho - desocupada\": \"forca_trabalho_descoupada\", \"valor_Conta própria\": \"forca_conta_propria\", \n",
    "                          \"valor_Empregado no setor privado, exclusive trabalhador doméstico\": \"forca_privado\", \"valor_Empregado no setor público\" : \"forca_publico\", \n",
    "                          \"valor_Empregador\": \"forca_empregador\", \"valor_Trabalhador doméstico\": \"forca_domestico\", \"valor_Trabalhador familiar auxiliar\": \"forca_auxiliar\"})"
   ]
  },
  {
   "cell_type": "code",
   "execution_count": 41,
   "id": "32e20b81-a817-49a4-8f8c-85d10de8c251",
   "metadata": {},
   "outputs": [],
   "source": [
    "tab_final_rnm.index.names = ['mes_ref', 'uf']"
   ]
  },
  {
   "cell_type": "code",
   "execution_count": 44,
   "id": "7e349c81-2101-4ce1-85ca-2ac08e756a86",
   "metadata": {},
   "outputs": [],
   "source": [
    "tab_final_rnm.to_csv(\"aux_pnad_tratada.csv\")"
   ]
  }
 ],
 "metadata": {
  "kernelspec": {
   "display_name": "Python 3 (ipykernel)",
   "language": "python",
   "name": "python3"
  },
  "language_info": {
   "codemirror_mode": {
    "name": "ipython",
    "version": 3
   },
   "file_extension": ".py",
   "mimetype": "text/x-python",
   "name": "python",
   "nbconvert_exporter": "python",
   "pygments_lexer": "ipython3",
   "version": "3.9.13"
  }
 },
 "nbformat": 4,
 "nbformat_minor": 5
}
