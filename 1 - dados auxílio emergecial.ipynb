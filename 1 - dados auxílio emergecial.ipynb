{
 "cells": [
  {
   "cell_type": "code",
   "execution_count": 1,
   "id": "67c6b7b3-195f-4fe4-a36c-0d9848391a24",
   "metadata": {},
   "outputs": [],
   "source": [
    "from io import BytesIO\n",
    "import urllib.request\n",
    "from zipfile import ZipFile\n",
    "import time\n",
    "import pandas as pd\n",
    "import os\n",
    "import dask.dataframe as dd\n",
    "from datetime import date, datetime, timedelta"
   ]
  },
  {
   "cell_type": "code",
   "execution_count": null,
   "id": "0eed597f-a284-446b-8178-9155622e0421",
   "metadata": {
    "tags": []
   },
   "outputs": [],
   "source": [
    "def ptrans(anomes):\n",
    "    ini = time.time()\n",
    "    url = f'https://portaldatransparencia.gov.br/download-de-dados/auxilio-emergencial/{anomes}'\n",
    "    with urllib.request.urlopen(url) as zipresp:\n",
    "        with ZipFile(BytesIO(zipresp.read())) as zfile:\n",
    "            zfile.extractall(f\"{anomes}\")\n",
    "    fim = time.time()\n",
    "    print(f\"Arquivo do mês {anomes} baixado, duração: {fim-ini}\")"
   ]
  },
  {
   "cell_type": "code",
   "execution_count": 2,
   "id": "07e8396e-2da2-4ca6-b063-095417227d6f",
   "metadata": {},
   "outputs": [],
   "source": [
    "meses = [202004, 202005, 202006, 202007, 202008, 202009, 202010, 202011, 202012]"
   ]
  },
  {
   "cell_type": "code",
   "execution_count": null,
   "id": "fd13b32d-cfc9-4e66-9358-12d866492b10",
   "metadata": {},
   "outputs": [],
   "source": [
    "for mes in meses:\n",
    "    ptrans(mes)"
   ]
  },
  {
   "cell_type": "code",
   "execution_count": 3,
   "id": "082f47f5-7c22-4170-a444-2e6bacc415a0",
   "metadata": {},
   "outputs": [],
   "source": [
    "def path(anomes):\n",
    "    endereco = \"C:/Users/grama/Desktop/TCC MBA/dash_python/\"\n",
    "    final = \"_AuxilioEmergencial.csv\"\n",
    "    resultado = endereco + str(anomes) + '/' + str(anomes) + final \n",
    "    return resultado"
   ]
  },
  {
   "cell_type": "code",
   "execution_count": 4,
   "id": "810c1f5f-9f37-43aa-9101-387c4d9dde2f",
   "metadata": {},
   "outputs": [],
   "source": [
    "cols = ['mes_disp', 'uf', 'enquadramento', 'valor']"
   ]
  },
  {
   "cell_type": "code",
   "execution_count": 7,
   "id": "88c74f3e-1828-4cdd-bfa8-266c379a47ce",
   "metadata": {},
   "outputs": [],
   "source": [
    "for mes in meses:\n",
    "    aux = dd.read_csv(path(mes), names=cols, sep = ';', usecols=[0, 1, 10, 13], encoding = 'latin1', skiprows=1, dtype={'uf': 'object', 'valor': 'float64'}, decimal = ',')\n",
    "    var = aux.groupby(['mes_disp', 'uf', 'enquadramento'])['valor'].agg(['sum', 'count']).compute()\n",
    "    globals()['sumarizado_' + str(mes)] = var"
   ]
  },
  {
   "cell_type": "code",
   "execution_count": 8,
   "id": "1c275329-bda2-45ea-9403-550da9585136",
   "metadata": {},
   "outputs": [],
   "source": [
    "dados = [sumarizado_202004, sumarizado_202005, sumarizado_202006, sumarizado_202007, sumarizado_202008, sumarizado_202009, sumarizado_202010, sumarizado_202011, sumarizado_202012]"
   ]
  },
  {
   "cell_type": "code",
   "execution_count": 11,
   "id": "6c24af80-89e1-4e9c-b720-0a77c3886259",
   "metadata": {},
   "outputs": [],
   "source": [
    "juncao = pd.concat(dados, axis=0, ignore_index=False)\n",
    "\n",
    "juncao.to_csv('dados_auxilio_sumarizados.csv')"
   ]
  },
  {
   "cell_type": "code",
   "execution_count": null,
   "id": "72598ee2-9592-44eb-a8f8-77b408d12312",
   "metadata": {},
   "outputs": [],
   "source": [
    "juncao.head()"
   ]
  },
  {
   "cell_type": "code",
   "execution_count": 15,
   "id": "b149cbeb-803b-479e-b47a-3c8faca4b3db",
   "metadata": {},
   "outputs": [
    {
     "data": {
      "text/plain": [
       "293339694300.0"
      ]
     },
     "execution_count": 15,
     "metadata": {},
     "output_type": "execute_result"
    }
   ],
   "source": [
    "juncao['sum'].sum()"
   ]
  },
  {
   "cell_type": "code",
   "execution_count": 14,
   "id": "18daf873-992e-4ce9-ad0d-96007d291c5e",
   "metadata": {},
   "outputs": [
    {
     "data": {
      "text/plain": [
       "533441034"
      ]
     },
     "execution_count": 14,
     "metadata": {},
     "output_type": "execute_result"
    }
   ],
   "source": [
    "juncao['count'].sum()"
   ]
  }
 ],
 "metadata": {
  "kernelspec": {
   "display_name": "Python 3 (ipykernel)",
   "language": "python",
   "name": "python3"
  },
  "language_info": {
   "codemirror_mode": {
    "name": "ipython",
    "version": 3
   },
   "file_extension": ".py",
   "mimetype": "text/x-python",
   "name": "python",
   "nbconvert_exporter": "python",
   "pygments_lexer": "ipython3",
   "version": "3.9.13"
  }
 },
 "nbformat": 4,
 "nbformat_minor": 5
}
